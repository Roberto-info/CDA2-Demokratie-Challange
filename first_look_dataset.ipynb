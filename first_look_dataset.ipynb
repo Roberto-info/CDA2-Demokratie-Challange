{
 "cells": [
  {
   "metadata": {},
   "cell_type": "markdown",
   "source": [
    "# Project Data closer look\n",
    "----------------------\n",
    "Dieses Notizbuch soll einen genaueren Blick auf den Datensatz werfen, den uns der Kursleiter zur Verfügung stellt.\n",
    "Die vorliegenden Daten werden analysiert, um zu sehen, welche Spalte welchen Datentyp hat und womit unser Team überhaupt arbeitet.\n",
    "Außerdem sollen die Daten auf die Informationen gefiltert werden, die wir analysieren möchten, in unserem Fall Daten über das\n",
    "Frauenwahlrecht.\n",
    "\n",
    "\n",
    "Zuerst importieren wir die Daten."
   ],
   "id": "e2c072187b963c2c"
  },
  {
   "metadata": {
    "collapsed": true,
    "ExecuteTime": {
     "end_time": "2025-02-24T10:56:16.423469Z",
     "start_time": "2025-02-24T10:56:16.189783Z"
    }
   },
   "cell_type": "code",
   "source": [
    "import pandas as pd\n",
    "import re\n",
    "from datetime import datetime\n",
    "\n",
    "from jupyter_core.migrate import regex\n",
    "\n",
    "df = pd.read_csv('data/dataset.csv', delimiter=';')\n",
    "\n",
    "# takes the first ten entries\n",
    "df.tail(10)\n",
    "\n",
    "# describes the structure\n",
    "print(df.dtypes)"
   ],
   "id": "initial_id",
   "outputs": [
    {
     "name": "stdout",
     "output_type": "stream",
     "text": [
      "anr               float64\n",
      "datum              object\n",
      "titel_kurz_d       object\n",
      "titel_kurz_f       object\n",
      "titel_kurz_e       object\n",
      "                   ...   \n",
      "bfsmap-fr          object\n",
      "bfsmap-en          object\n",
      "nach_cockpit_d     object\n",
      "nach_cockpit_f     object\n",
      "nach_cockpit_e     object\n",
      "Length: 874, dtype: object\n"
     ]
    }
   ],
   "execution_count": 1
  },
  {
   "metadata": {},
   "cell_type": "markdown",
   "source": [
    "# Filtern der Daten:\n",
    "Nun filtern wir auf die gewünschten Einträge, auf die welche sich auf das Frauenstimmrecht beziehen."
   ],
   "id": "3bd4f7c3cec17d96"
  },
  {
   "metadata": {
    "ExecuteTime": {
     "end_time": "2025-02-24T11:20:04.168015Z",
     "start_time": "2025-02-24T11:20:04.162311Z"
    }
   },
   "cell_type": "code",
   "source": [
    "# Filtern auf die Abstimmungen welche sich mit dem Frauenstimmrecht befasst haben.\n",
    "# Mittels regex suche\n",
    "df_frauenstimm = df.loc[df['titel_kurz_d'].str.contains('Frauenstimm', flags=re.IGNORECASE, regex=True)]\n",
    "# Ausgabe korrekt es gab zwei Wahlen konkret darüber\n",
    "df_frauenstimm.to_csv('data/frauenstimmmrecht.csv', index=False)"
   ],
   "id": "d78b25762b0b3ae7",
   "outputs": [],
   "execution_count": 13
  },
  {
   "metadata": {},
   "cell_type": "markdown",
   "source": [
    "# Daten nach annahme des Frauenstimmrechts.\n",
    "Da wir die Auswirkung der Frauen auf die Stimme der Männer analysieren wollen, brauchen wir noch die Daten nach 1971"
   ],
   "id": "4db1f6428367960f"
  },
  {
   "metadata": {
    "ExecuteTime": {
     "end_time": "2025-02-24T11:20:00.735621Z",
     "start_time": "2025-02-24T11:20:00.663452Z"
    }
   },
   "cell_type": "code",
   "source": [
    "# Datum zum vergleich\n",
    "date = datetime(1971, 2, 7, 0, 0)\n",
    "\n",
    "# Datums variable in ein Datum umwandeln\n",
    "df['datum'] = pd.to_datetime(df['datum'], format='%d.%m.%Y')\n",
    "\n",
    "# Daten nach der Annahme des Frauenstimmrechts\n",
    "df_nach_frauenstimm = df.loc[df['datum'] > date]\n",
    "# Resetten der Indexe\n",
    "df_nach_frauenstimm.reset_index(drop=True, inplace=True)\n",
    "\n",
    "df_nach_frauenstimm.to_csv('data/nach_frauenstimmrecht.csv', index=False)"
   ],
   "id": "5658fa9e9d5c1bf9",
   "outputs": [],
   "execution_count": 12
  }
 ],
 "metadata": {
  "kernelspec": {
   "display_name": "Python 3",
   "language": "python",
   "name": "python3"
  },
  "language_info": {
   "codemirror_mode": {
    "name": "ipython",
    "version": 2
   },
   "file_extension": ".py",
   "mimetype": "text/x-python",
   "name": "python",
   "nbconvert_exporter": "python",
   "pygments_lexer": "ipython2",
   "version": "2.7.6"
  }
 },
 "nbformat": 4,
 "nbformat_minor": 5
}
